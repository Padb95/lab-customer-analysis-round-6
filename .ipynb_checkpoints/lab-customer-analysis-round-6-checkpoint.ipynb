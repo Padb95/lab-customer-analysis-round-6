{
 "cells": [
  {
   "cell_type": "code",
   "execution_count": null,
   "id": "9efb0446-b0a4-472f-a35b-d26ac585aa9f",
   "metadata": {},
   "outputs": [],
   "source": [
    "import pandas as pd\n",
    "import numpy as np\n",
    "import warnings\n",
    "warnings.filterwarnings('ignore')\n",
    "import matplotlib.pyplot as plt\n",
    "%matplotlib inline\n",
    "import seaborn as sns"
   ]
  },
  {
   "cell_type": "code",
   "execution_count": null,
   "id": "7842b51b-9660-444e-83b7-f4cc1fa96c4d",
   "metadata": {},
   "outputs": [],
   "source": [
    "custo = pd.read_csv(r\"C:\\Users\\HP\\Desktop\\Iron Hack\\Labs\\lab-customer-analysis-round-4\\files_for_lab\\csv_files\\marketing_customer_analysis.csv\")\n",
    "custo"
   ]
  },
  {
   "cell_type": "code",
   "execution_count": null,
   "id": "5db76887-3209-4ade-9615-d7e885755060",
   "metadata": {},
   "outputs": [],
   "source": [
    "cols = []\n",
    "for i in range(len(custo.columns)): \n",
    "    cols.append(custo.columns[i].lower().replace(' ', '_'))\n",
    "custo.columns = cols"
   ]
  },
  {
   "cell_type": "markdown",
   "id": "c6ba0c84-de24-4e99-bee3-831777abf8cb",
   "metadata": {},
   "source": [
    "# Check the data types of the columns"
   ]
  },
  {
   "cell_type": "code",
   "execution_count": null,
   "id": "a4310a3a-ddb6-43d5-b2ec-962b1a6852e9",
   "metadata": {},
   "outputs": [],
   "source": [
    "custo.dtypes"
   ]
  },
  {
   "cell_type": "markdown",
   "id": "a612fd48-aaf8-46a9-9689-91b74d01e604",
   "metadata": {},
   "source": [
    "# Get the numeric data into dataframe called numerical"
   ]
  },
  {
   "cell_type": "code",
   "execution_count": null,
   "id": "434ed072-233a-4c4a-87fe-c601b4d3c641",
   "metadata": {},
   "outputs": [],
   "source": [
    "numerical = custo.select_dtypes(include=['float64', 'int64'])"
   ]
  },
  {
   "cell_type": "markdown",
   "id": "a63dea0f-8591-49aa-adbf-b8ac65a3a0cf",
   "metadata": {},
   "source": [
    "# Categorical columns in a dataframe called categoricals"
   ]
  },
  {
   "cell_type": "code",
   "execution_count": null,
   "id": "9df2f408-fc71-436e-be45-d84344176a00",
   "metadata": {},
   "outputs": [],
   "source": [
    "categoricals = custo.select_dtypes(include=['object'])"
   ]
  },
  {
   "cell_type": "markdown",
   "id": "d2fc0033-69ba-4fde-a401-992be75c5cc8",
   "metadata": {},
   "source": [
    "# Use seaborn library to construct distribution plots for the numerical variables"
   ]
  },
  {
   "cell_type": "code",
   "execution_count": null,
   "id": "2bf3a805-d53e-4ff4-a97f-6cc46e5ab086",
   "metadata": {},
   "outputs": [],
   "source": [
    "sns.boxplot(x=custo['income'], data=custo)\n",
    "plt.show()"
   ]
  },
  {
   "cell_type": "code",
   "execution_count": null,
   "id": "ae70a11c-f98b-40ef-96b5-f8124bc98e37",
   "metadata": {},
   "outputs": [],
   "source": [
    "sns.histplot(custo['income'])\n",
    "plt.show()"
   ]
  },
  {
   "cell_type": "markdown",
   "id": "460f16c4-0922-401e-a424-92b080097b29",
   "metadata": {},
   "source": [
    "# Do the distributions for different numerical variables look like a normal distribution"
   ]
  },
  {
   "cell_type": "code",
   "execution_count": null,
   "id": "20ee7f29-35eb-4f9f-9a7a-6f59c434a3a1",
   "metadata": {},
   "outputs": [],
   "source": [
    "for column in numerical.columns:\n",
    "    plt.figure(figsize=(10, 6))\n",
    "    sns.distplot(numerical[column]).set_title(column)\n",
    "    plt.show()"
   ]
  },
  {
   "cell_type": "markdown",
   "id": "5a4942ec-4fd8-483a-a7eb-4bb02307d571",
   "metadata": {},
   "source": [
    "# For the numerical variables, check the multicollinearity between the features"
   ]
  },
  {
   "cell_type": "code",
   "execution_count": null,
   "id": "7e427361-8f1f-4271-a085-cdb1147b3efb",
   "metadata": {},
   "outputs": [],
   "source": [
    "correlations = numerical.corr()\n",
    "correlations"
   ]
  },
  {
   "cell_type": "markdown",
   "id": "4fa3b7d6-8c60-4219-8a44-e0a597cd3731",
   "metadata": {},
   "source": [
    "# Drop one of the two features that show a high correlation between them (greater than 0.9). Write code for both the correlation matrix and for seaborn heatmap. If there is no pair of features that have a high correlation, then do not drop any features"
   ]
  },
  {
   "cell_type": "code",
   "execution_count": null,
   "id": "749334d4-c060-43e2-be18-a8ded7e7e972",
   "metadata": {},
   "outputs": [],
   "source": [
    "# There is no correlations between them"
   ]
  },
  {
   "cell_type": "markdown",
   "id": "20665ca2-7d3a-490f-8e34-d3bd5c20d33b",
   "metadata": {},
   "source": [
    "# Customer Analysis Round 5"
   ]
  },
  {
   "cell_type": "markdown",
   "id": "83378a73-3969-458b-b44a-7035a8b8a39e",
   "metadata": {},
   "source": [
    "# X-y split"
   ]
  },
  {
   "cell_type": "code",
   "execution_count": null,
   "id": "2f8ecbe5-5c29-4de1-8cf2-ac3e7ee45e63",
   "metadata": {},
   "outputs": [],
   "source": [
    "Y = custo['income']\n",
    "X = custo.drop(['income','Customer Lifetime Value'], axis=1)\n",
    "\n",
    "X = sm.add_constant(X)\n",
    "model = sm.OLS(Y,X).fit()\n",
    "\n",
    "model.summary()"
   ]
  },
  {
   "cell_type": "markdown",
   "id": "8448dd34-b313-4a66-85e6-7210255b0dea",
   "metadata": {},
   "source": [
    "# Normalize (numerical)"
   ]
  },
  {
   "cell_type": "code",
   "execution_count": null,
   "id": "411a8439-c8e3-4295-9892-1093a425b4e6",
   "metadata": {},
   "outputs": [],
   "source": [
    "from sklearn.preprocessing import MinMaxScaler\n",
    "\n",
    "num_data = custo.drop(['custo'], axis=1)\n",
    "scaler = MinMaxScaler()\n",
    "normalized_data = scaler.fit_transform(num_data)\n",
    "normalized_data = pd.DataFrame(normalized_data, columns=num_data.columns)\n",
    "normalized_data"
   ]
  }
 ],
 "metadata": {
  "kernelspec": {
   "display_name": "Python 3 (ipykernel)",
   "language": "python",
   "name": "python3"
  },
  "language_info": {
   "codemirror_mode": {
    "name": "ipython",
    "version": 3
   },
   "file_extension": ".py",
   "mimetype": "text/x-python",
   "name": "python",
   "nbconvert_exporter": "python",
   "pygments_lexer": "ipython3",
   "version": "3.11.7"
  }
 },
 "nbformat": 4,
 "nbformat_minor": 5
}
